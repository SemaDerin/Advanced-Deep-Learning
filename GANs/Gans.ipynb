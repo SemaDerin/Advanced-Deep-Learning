{
 "cells": [
  {
   "cell_type": "markdown",
   "id": "44387446",
   "metadata": {},
   "source": [
    "# Gans Nedir?\n",
    "Generative Adversarial Networks\n",
    "\n",
    "Üretken Çekişmeli Ağlar. Eğitim setiyle aynı istatistiklere sahip yeni veriler oluşturmayı hedefleyen yapılardır. Burada bir dedektif var ve bir tane de kalpazan var. Burada bir dedektif var ve bir de kalpazanımız var. Gerçek bir datamız var ve bir tane de kalpazanımız(generator) var. Generator bir resim üretiyor ve real data ve fake data bir dedektife geliyor ve dedektif de bunlardan hangisi gerçek hangisi sahte anlamaya çalışıyor. Bu arada generator(kalpazan) giderek öğreniyor ve real dataya daha yakın sonuçlar öğretiyor. Böylece generator (kalpazan) eğitim setiyle yani gerçek datayla aynı istatistiğe sahip yeni veriler oluşturmayı öğreniyor. \n",
    "\n"
   ]
  },
  {
   "cell_type": "markdown",
   "id": "29235e62",
   "metadata": {},
   "source": [
    "#### GANs nedir?\n",
    "\n",
    "\n",
    "Bir seneryo içinde düşünelim. 2 network’dan oluşur.  Generator(Üretici ağ) ve Discriminator(Ayırt edici ağ) Generator için “G” Discriminator “D” diyelim.\n",
    "G ağı bir output üretiyor D ise CNN olsun ANN olsun Deep learning ya da machine learning algoritmalarında gördüğümüz bir nevi “Classification” yöntemidir. Yani ayırt ediyor, sınıflandırıyor. Bunun ifadesi de şu şekilde oluyor, G için “kalpazan” deniyor D için “Dedektif” deniyor. G nin asıl amacı sürekli yeni data üretmekti. Yani \türetici ağdı. Gerçeğinden ayırt edilemeyecek nihai datalar üretmektir. G ağı öncesinde hedeflenen de kötü veriler üretir fakat ardından gittikçe iyileşir ve real dataya yaklaşır. Zamanla discriminator de real mi değil mi diye karar verirken de öğrenir.\n",
    "\n",
    "Discriminator’e Real Datayı etiketleyip ardından verilir. Ardından fake olan data etiketlenip verilir. Üretilen bu sahte data Generator tarafından gönderiliyor. Generator’ın “random_noise” kullanarak bir görüntü oluşturur. Ardıdan “disriminator”’un karar vermesi gereken bir süreç söz konusudur. Bu karar sürecinde back propagation kullanılarak “Discrimination” ‘a geri döner ve aynı zamanda “Generator” ‘ de öğrenmeye başlıyor. Zamanla “Discriminator”  ayırt edemeyecek hale gelecek.\n",
    "\n",
    "\n"
   ]
  },
  {
   "cell_type": "markdown",
   "id": "7eec7c9d",
   "metadata": {},
   "source": [
    "##### Discriminator Training:\n",
    "\n",
    "Noise -> Generator -> Image1 ->(labelladık y=0) -> Discriminator\n",
    "                               Real_image (y=1)-> Discriminator\n",
    "                               \n",
    "\n",
    "İnputlar=======> Real+ Fake Data\n",
    "\n",
    "\n",
    "Discriminator if fake y=0 if real y=1 karar verecek.\n",
    "\n",
    "\n",
    "Ardıdan loss elde edeceğiz ve loss’ların toplamının model parametrelerine göre türevi ile backpropagation yapacağız. Ardından parametreler güncellenecek ve train edilmiş bir dataset elde edeceğiz. \n",
    "\n"
   ]
  },
  {
   "cell_type": "markdown",
   "id": "d7dd7e7c",
   "metadata": {},
   "source": [
    "#### Generator Training:\n",
    "Noise -> Generator -> image1(y=1 diye labellanmış) -> Discrimination -> Eğer ki  Discrimination fake derse backpropagation işlemi yapıyor -> Generator yine bir resim üretiyor. (Loss’lar sıfırlana kadar).\n",
    "\n",
    "Generator ve Discrimination her ikisinde de neural network yapıları vardır. \n",
    "\n",
    "\n",
    "\n"
   ]
  },
  {
   "cell_type": "markdown",
   "id": "4a0fbca6",
   "metadata": {},
   "source": [
    "Dataset olarak 0-9 resimleri içeren Mnist Datasetini kullanacağız."
   ]
  },
  {
   "cell_type": "code",
   "execution_count": 1,
   "id": "a3ffb7c3",
   "metadata": {},
   "outputs": [],
   "source": [
    "from keras.layers import Dense, Dropout, Input, ReLU\n",
    "from keras.models import Model, Sequential\n",
    "from keras.optimizers import Adam\n",
    "from keras.datasets import mnist\n",
    "import numpy as np\n",
    "import matplotlib.pyplot as plt\n"
   ]
  },
  {
   "cell_type": "code",
   "execution_count": 2,
   "id": "d7f55ca3",
   "metadata": {},
   "outputs": [],
   "source": [
    "(x_train, y_train),(x_test, y_test)= mnist.load_data()"
   ]
  },
  {
   "cell_type": "code",
   "execution_count": 3,
   "id": "2a596a93",
   "metadata": {},
   "outputs": [],
   "source": [
    "##normalizasyon -1-0 arasında \n",
    "\n",
    "x_train= (x_train.astype(np.float32)-127.5)/127.5"
   ]
  },
  {
   "cell_type": "code",
   "execution_count": 4,
   "id": "4848dafb",
   "metadata": {},
   "outputs": [
    {
     "name": "stdout",
     "output_type": "stream",
     "text": [
      "(60000, 28, 28)\n"
     ]
    }
   ],
   "source": [
    "print(x_train.shape)"
   ]
  },
  {
   "cell_type": "markdown",
   "id": "9f9dad4a",
   "metadata": {},
   "source": [
    "Keras için shape'i bir vektöre çevireceğiz."
   ]
  },
  {
   "cell_type": "code",
   "execution_count": 5,
   "id": "3d356828",
   "metadata": {},
   "outputs": [
    {
     "name": "stdout",
     "output_type": "stream",
     "text": [
      "(60000, 784)\n"
     ]
    }
   ],
   "source": [
    "x_train = x_train.reshape(x_train.shape[0] , x_train.shape[1]*x_train.shape[2])\n",
    "print(x_train.shape)"
   ]
  },
  {
   "cell_type": "code",
   "execution_count": 6,
   "id": "633e8f7c",
   "metadata": {},
   "outputs": [
    {
     "data": {
      "text/plain": [
       "<matplotlib.image.AxesImage at 0x1fab7001c00>"
      ]
     },
     "execution_count": 6,
     "metadata": {},
     "output_type": "execute_result"
    },
    {
     "data": {
      "image/png": "[encoded data removed]",
      "text/plain": [
       "<Figure size 640x480 with 1 Axes>"
      ]
     },
     "metadata": {},
     "output_type": "display_data"
    }
   ],
   "source": [
    "plt.imshow(x_test[17])"
   ]
  },
  {
   "cell_type": "markdown",
   "id": "27b7a111",
   "metadata": {},
   "source": [
    "#### Create Generator"
   ]
  },
  {
   "cell_type": "markdown",
   "id": "876c02fe",
   "metadata": {},
   "source": [
    "Burada genel hatlarıyla bir input değerimiz olacak ve arada bir Neural Network yapısı olacak ve son olarak bir output olacak.\n",
    "\n",
    "\n",
    "Input-----> Dense(512)-----> ReLu-----> Dense(512)-----> ReLu--> Dense(1024)---->Relu---->Dense(784)(Output)---->tanh----->output"
   ]
  },
  {
   "cell_type": "markdown",
   "id": "d448f987",
   "metadata": {},
   "source": [
    "Bunu bir fonksiyon gibi yazacağız."
   ]
  },
  {
   "cell_type": "code",
   "execution_count": null,
   "id": "6bcf0060",
   "metadata": {},
   "outputs": [],
   "source": [
    "def create_generator():\n",
    "    \n",
    "    \n",
    "    generator= Sequential()\n",
    "    generator.add(Dense(uints=512, input_dim=100))\n",
    "    generator.add(ReLU())\n",
    "    \n",
    "    \n",
    "    generator.add(Dense(uints=512))\n",
    "    generator.add(reLU())\n",
    "    \n",
    "    \n",
    "    generator.add(Dense(uints=1024))\n",
    "    generator.add(reLU())\n",
    "    \n",
    "    \n",
    "    generator.add(Dense(uints=774), activation=\"tanh\")\n",
    "     \n",
    "\n",
    "    generator.compile(loss= \"binary_corssentropy\",\n",
    "                     optimizer= Adam(lr= 0.0001,beta_1=0.5))\n",
    "    return generator\n",
    "\n",
    "\n"
   ]
  },
  {
   "cell_type": "markdown",
   "id": "d8681277",
   "metadata": {},
   "source": [
    "Generator objesi yarattık."
   ]
  },
  {
   "cell_type": "code",
   "execution_count": null,
   "id": "9a483152",
   "metadata": {},
   "outputs": [],
   "source": [
    "g = create_generator()"
   ]
  },
  {
   "cell_type": "code",
   "execution_count": null,
   "id": "bab50875",
   "metadata": {},
   "outputs": [],
   "source": [
    "g.summary()"
   ]
  },
  {
   "cell_type": "markdown",
   "id": "541dd3af",
   "metadata": {},
   "source": [
    "Burada da discriminator tanımlayacağız. Adımları:\n",
    "\n",
    "input----->Dense(1024)-----> ReLU+Droput(0.4)-----> Dense(512)----->Relu+Dropout()----->Dense(256)----->ReLu----->Dense()(output)-----> Sigmoid----->Output----->Fake or Real"
   ]
  },
  {
   "cell_type": "code",
   "execution_count": null,
   "id": "0d4f0d27",
   "metadata": {},
   "outputs": [],
   "source": [
    "def create_discriminator():\n",
    "    discriminator.Sequential()\n",
    "    discriminator.add(Dense(uints=1024, input_dim=784))\n",
    "    discriminator.add(ReLU)\n",
    "    discriminator.add(Dropout(0.4))\n",
    "    \n",
    "    \n",
    "    discriminator.add(Dense(units=512))\n",
    "    discriminator.add(ReLU)\n",
    "    discriminator.add(Dropout(0.4))\n",
    "    \n",
    "    discriminator.add(Dense(units=256))\n",
    "    discriminator.add(ReLU)\n",
    "    \n",
    "    discriminator.add(Dense(uints=1, activation=\"sigmoid\"))\n",
    "    \n",
    "    \n",
    "    discriminator.compile(loss= \"binary_crossentropy\",\n",
    "                         optimizer= Adam(lr=0.0001, beta_1= 0.5))\n",
    "    \n",
    "    return discriminator\n",
    "            "
   ]
  },
  {
   "cell_type": "code",
   "execution_count": null,
   "id": "b870c7b2",
   "metadata": {},
   "outputs": [],
   "source": [
    "d= create_discriminator()"
   ]
  },
  {
   "cell_type": "code",
   "execution_count": null,
   "id": "8bf34338",
   "metadata": {},
   "outputs": [],
   "source": [
    "d.summary()"
   ]
  },
  {
   "cell_type": "markdown",
   "id": "3fed1d16",
   "metadata": {},
   "source": [
    "##### Gan oluşturma"
   ]
  },
  {
   "cell_type": "code",
   "execution_count": null,
   "id": "c35fe332",
   "metadata": {},
   "outputs": [],
   "source": [
    "def create_gan(discriminator,generator):\n",
    "    discriminator.trainable= False\n",
    "    gan_input= Input(shape=(100,))\n",
    "    x= generator(gan_input)\n",
    "    gan_output= discriminator(x)\n",
    "    \n",
    "    gan= Model(inputs= gan_input, outputs= gan_outputs)\n",
    "    \n",
    "    gan.compile(loss= \"binary_crossentropy\",optimizer=\"adam\")\n",
    "    return gan\n",
    "    "
   ]
  },
  {
   "cell_type": "code",
   "execution_count": null,
   "id": "e9d4351c",
   "metadata": {},
   "outputs": [],
   "source": [
    "gan= create(d,g)"
   ]
  },
  {
   "cell_type": "code",
   "execution_count": null,
   "id": "db5e07d6",
   "metadata": {},
   "outputs": [],
   "source": [
    "gan.summary()"
   ]
  },
  {
   "cell_type": "markdown",
   "id": "4147a26c",
   "metadata": {},
   "source": [
    "##### Gan Train"
   ]
  },
  {
   "cell_type": "code",
   "execution_count": 1,
   "id": "488017ca",
   "metadata": {},
   "outputs": [],
   "source": [
    "epochs=50\n",
    "batch_size= 256"
   ]
  },
  {
   "cell_type": "code",
   "execution_count": null,
   "id": "ca3227de",
   "metadata": {},
   "outputs": [],
   "source": [
    "#train\n",
    "\n",
    "epochs = 50\n",
    "batch_size = 256\n",
    "\n",
    "for e in range(epochs):\n",
    "    for _ in range(batch_size):\n",
    "        \n",
    "        noise = np.random.normal(0,1, [batch_size,100])\n",
    "        \n",
    "        generated_images = g.predict(noise)\n",
    "        \n",
    "        image_batch = x_train[np.random.randint(low = 0, high = x_train.shape[0],size = batch_size)]\n",
    "        \n",
    "        x = np.concatenate([image_batch, generated_images])\n",
    "        \n",
    "        y_dis = np.zeros(batch_size*2)\n",
    "        y_dis[:batch_size] = 1\n",
    "        \n",
    "        d.trainable = True  #Eğitime başlandı.\n",
    "        d.train_on_batch(x,y_dis)\n",
    "\n",
    "        noise = np.random.normal(0,1,[batch_size,100])\n",
    "        \n",
    "        y_gen = np.ones(batch_size)\n",
    "        \n",
    "        d.trainable = False  #Artık generator'ü eğiteceğim için discriminator'ün eğitimini False'e eşitledim.\n",
    "        \n",
    "        gan.train_on_batch(noise, y_gen)\n",
    "    print(\"epochs: \",e)"
   ]
  },
  {
   "cell_type": "code",
   "execution_count": null,
   "id": "62d68f14",
   "metadata": {},
   "outputs": [],
   "source": [
    "# save model\n",
    "g.save_weights('gans_model.h5')  # always save your weights after training or during training"
   ]
  },
  {
   "cell_type": "code",
   "execution_count": null,
   "id": "550ed703",
   "metadata": {},
   "outputs": [],
   "source": [
    "# visualize\n",
    "noise= np.random.normal(loc=0, scale=1, size=[100, 100])\n",
    "generated_images = g.predict(noise)\n",
    "generated_images = generated_images.reshape(100,28,28)\n",
    "plt.imshow(generated_images[66], interpolation='nearest')\n",
    "plt.axis('off')\n",
    "plt.show()"
   ]
  }
 ],
 "metadata": {
  "kernelspec": {
   "display_name": "Python 3 (ipykernel)",
   "language": "python",
   "name": "python3"
  },
  "language_info": {
   "codemirror_mode": {
    "name": "ipython",
    "version": 3
   },
   "file_extension": ".py",
   "mimetype": "text/x-python",
   "name": "python",
   "nbconvert_exporter": "python",
   "pygments_lexer": "ipython3",
   "version": "3.10.9"
  }
 },
 "nbformat": 4,
 "nbformat_minor": 5
}
