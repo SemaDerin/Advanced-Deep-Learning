{
 "cells": [
  {
   "cell_type": "markdown",
   "id": "8f25b37d",
   "metadata": {},
   "source": [
    "# AUTOENCODERS"
   ]
  },
  {
   "cell_type": "markdown",
   "id": "a2914d46",
   "metadata": {},
   "source": [
    "**AutoEncoders**\n",
    "\n",
    "\n",
    "**Autoencoders nedir?**\n",
    "Autoencdoers unsupervised algoritmasıdır. Öğrenilecek labellar yoktur. \n",
    "\n",
    "Autoencoders’da amaç nedir?\n",
    "\n",
    "**1.Dimension Reduction (Boyut Azaltma)- 2.Feature Extraction - ve 3.Denoising**\n",
    "\n",
    "Dimesion Reduction: Bir feature içindeki en önemli feature’leri seçiyor. En önemli derken biim belirlediğimiz ölçüde. Özetle en az şekilde bilgi kaydetmektir.\n",
    "\n",
    "Autoencoder da amaçlardan biri de girdi olarak girilen bir resmin aynısının output olarak elde edilmesinin çalışışması. Kopyalarken amaç girilen input hakkında feature toplamak ve bunların extract edilmesidir. Eğer ki inputla aynı outpu elde edebilrsem bilebilirim ki iyi feature’lar elde edebilmişimdir. İnput ve output arasındaki kod kısmına bottleneck ya da latent space presantation olarak da adlandırabiliriz. Bu kısımlar input’dan öğrendiğim kısımlardır. Amacım burda “Feature extraction” yapabilmektir.\n"
   ]
  },
  {
   "cell_type": "markdown",
   "id": "f632deb5",
   "metadata": {},
   "source": [
    "Şimdi elimizde bir input image olduğunu varsayalım ve bu input’u bir bir encoder’a sokalım. Encoder’in görevi; compress input yapar. “Compress Input” ne demek? Compress Input elimde var olan inputu ifade edebilecek “en iyi ” featureleri ortaya çıkarmaktır. Bunu nasıl yapıyor girişte aktivasyon fonksiyonları ve farklı farklı hidden layer’lar sayesinde yapabiliyor. Encoder’ ı F diye tanımlayalım x input image ve sonuç h olsun.\n",
    "\n",
    "H= f(X)   -->  Encoding Function\n",
    "\n",
    "Ardından h ile “decoding” işlemi yapalım. Burada fonksiyonumuzun adı g olsun.\n",
    "\n",
    "R =g(h) --> Decoding Function\n",
    "\n",
    "Bizim asıl sorumuz şu olacaktır Encoding fonksiyonuna giren x ile Decoding fonksiyonundan çıkan r değerimiz aynı mı? Bunun için de MSE(Minimize Square Error) fonksiyonundan yardım alıyoruz.\n",
    "x-r ?=0\n",
    "(x-r)^2 ?=0 \n",
    "Tüm loss değerlerinin toplamı sıfır olmalıdır. \n",
    "\n",
    "Eğer ki x ve r değerlerinden elde edilen loss değeri sıfır değilse (x!=r) BACKPROPAGATION işlemi yapılacaktır. Weight’leri güncellemektir. Modelimiz train edecek ve x ile r’ı birbirine eşitlemeye çalışıyor.   Sonuç olarak faydalı feature’ları öğrenmiş olacaktır. \n",
    "\n",
    " Trick: input size >hidden size olmalıdır. \n"
   ]
  },
  {
   "cell_type": "markdown",
   "id": "444510a1",
   "metadata": {},
   "source": [
    "**Denoising**:\n",
    "\n",
    "Deniosing verileri gürültüden temizlemektir. Şimdi bir input image düşünelim. Bu resme ilk başta biraz gürültü(noise) ekliyoruz. Ardından yeni bir resim elde ediyorum. Corrupted image elde ediyoruz. İnput olarak autoencoder’a sokuyoruz. Daha sonra çıkan sonuçlar orijinal image’e veriyorum. Böylece noise ‘u öğrenmiş oluyorum ve Corrupted bir image ile karşılaştığımda bunu “Denoising” yapmış oluyoruz. Bunu gerçek hayat image’lerinde bize kolaylık sağlıyor. \n"
   ]
  },
  {
   "cell_type": "markdown",
   "id": "30fa9184",
   "metadata": {},
   "source": [
    "Fashion Mnist DataSet Tanımı:\n",
    "    \n",
    "keras'ın içinde tanımlı kıyafet image'lerden oluşan bir datasettir."
   ]
  },
  {
   "cell_type": "code",
   "execution_count": 4,
   "id": "fecf5232",
   "metadata": {},
   "outputs": [],
   "source": [
    "from keras.models import Model\n",
    "from keras.layers import Input, Dense\n",
    "from keras.datasets import fashion_mnist\n",
    "import matplotlib.pyplot as plt\n",
    "import json, codecs\n",
    "import warnings\n",
    "warnings.filterwarnings(\"ignore\")\n"
   ]
  },
  {
   "cell_type": "markdown",
   "id": "88a94beb",
   "metadata": {},
   "source": [
    "Veriyi yükleyeceğiz fakat başta belirttik bizim verisetimiz etiketsiz bu sebeple elimizde yalnızca x_test, x_train olacak."
   ]
  },
  {
   "cell_type": "code",
   "execution_count": 5,
   "id": "88efdde0",
   "metadata": {},
   "outputs": [],
   "source": [
    "(x_train, _),(x_test, _)= fashion_mnist.load_data()"
   ]
  },
  {
   "cell_type": "markdown",
   "id": "94d625fc",
   "metadata": {},
   "source": [
    "Şimdi hem resimleri float'a çevirip ardından normalize edeceğiz. "
   ]
  },
  {
   "cell_type": "code",
   "execution_count": 6,
   "id": "f6cd4d96",
   "metadata": {},
   "outputs": [],
   "source": [
    "x_train= x_train.astype(\"float32\")/255.0\n",
    "x_test= x_test.astype(\"float32\")/255.0"
   ]
  },
  {
   "cell_type": "code",
   "execution_count": 7,
   "id": "46f99e3d",
   "metadata": {},
   "outputs": [
    {
     "data": {
      "text/plain": [
       "(60000, 28, 28)"
      ]
     },
     "execution_count": 7,
     "metadata": {},
     "output_type": "execute_result"
    }
   ],
   "source": [
    "x_train.shape"
   ]
  },
  {
   "cell_type": "markdown",
   "id": "e8b7ac45",
   "metadata": {},
   "source": [
    "Bizim bu shape'i 60000, 784 haline getireceğiz."
   ]
  },
  {
   "cell_type": "code",
   "execution_count": 8,
   "id": "ec1812d1",
   "metadata": {},
   "outputs": [],
   "source": [
    "x_train = x_train.reshape((len(x_train), x_train.shape[1:][0]*x_train.shape[1:][1]))\n",
    "x_test = x_test.reshape((len(x_test), x_test.shape[1:][0]*x_test.shape[1:][1]))"
   ]
  },
  {
   "cell_type": "markdown",
   "id": "eae1849c",
   "metadata": {},
   "source": [
    "Bir image görüntüsüne bakalım."
   ]
  },
  {
   "cell_type": "code",
   "execution_count": 9,
   "id": "c2b20f79",
   "metadata": {},
   "outputs": [
    {
     "data": {
      "text/plain": [
       "<matplotlib.image.AxesImage at 0x1810830f940>"
      ]
     },
     "execution_count": 9,
     "metadata": {},
     "output_type": "execute_result"
    },
    {
     "data": {
      "image/png": "[encoded data removed]",
      "text/plain": [
       "<Figure size 640x480 with 1 Axes>"
      ]
     },
     "metadata": {},
     "output_type": "display_data"
    }
   ],
   "source": [
    "plt.imshow(x_train[150].reshape(28,28))"
   ]
  },
  {
   "cell_type": "code",
   "execution_count": 10,
   "id": "89268d95",
   "metadata": {},
   "outputs": [
    {
     "data": {
      "text/plain": [
       "<matplotlib.image.AxesImage at 0x1810b3b3be0>"
      ]
     },
     "execution_count": 10,
     "metadata": {},
     "output_type": "execute_result"
    },
    {
     "data": {
      "image/png": "[encoded data removed]",
      "text/plain": [
       "<Figure size 640x480 with 1 Axes>"
      ]
     },
     "metadata": {},
     "output_type": "display_data"
    }
   ],
   "source": [
    "plt.imshow(x_train[4000].reshape(28,28))"
   ]
  },
  {
   "cell_type": "markdown",
   "id": "14c2cb03",
   "metadata": {},
   "source": [
    "#### Autoencoder "
   ]
  },
  {
   "cell_type": "markdown",
   "id": "b1f42f5f",
   "metadata": {},
   "source": [
    "resimler 28x28 den (784,1) halnine getirilip input olacak ardından bir input layer ardında 3 tane hidden layer ardından bir output layer elde edeceğiz."
   ]
  },
  {
   "cell_type": "code",
   "execution_count": null,
   "id": "ffbbbf9e",
   "metadata": {},
   "outputs": [],
   "source": [
    "input_img= Input(shape=(784,))\n",
    "\n",
    "encoded= Dense(12, activation=\"relu\")(input_img)\n",
    "encoded= Dense(6, activation=\"relu\")(encoded)\n",
    "decoded= Dense(6, activation= \"relu\")(encoded)\n",
    "decoded= Dense(784, activation= \"softmax\")(decoded)\n",
    "\n",
    "autoencoder= Model(input_img, decoded)\n",
    "\n",
    "autoencoder.compile(optimizer= \"rmsprop\",\n",
    "                   loss= \"binary_crossentropy\")\n",
    "\n",
    "hist=autoencoder.fit(x_train, x_train,\n",
    "                    epochs=4,\n",
    "                    batch_size= 256,\n",
    "                    shuffle=False,\n",
    "                    validation_data= (x_train,x_train))"
   ]
  },
  {
   "cell_type": "code",
   "execution_count": null,
   "id": "b6a17a32",
   "metadata": {},
   "outputs": [],
   "source": [
    "#evaluation\n",
    "print(hist.history.keys())"
   ]
  },
  {
   "cell_type": "code",
   "execution_count": null,
   "id": "e2ed6488",
   "metadata": {},
   "outputs": [],
   "source": [
    "plt.plot(hist.history[\"loss\"],label = \"Train loss\")\n",
    "plt.plot(hist.history[\"val_loss\"],label = \"Val loss\")\n",
    "plt.legend()\n",
    "plt.show()"
   ]
  },
  {
   "cell_type": "code",
   "execution_count": null,
   "id": "3fd2270b",
   "metadata": {},
   "outputs": [],
   "source": [
    "# save history (hist)\n",
    "with open(\"autoencoders_hist.json\",\"w\") as f:\n",
    "    json.dump(hist.history,f)"
   ]
  },
  {
   "cell_type": "code",
   "execution_count": null,
   "id": "22383d72",
   "metadata": {},
   "outputs": [],
   "source": [
    "# load history\n",
    "with codecs.open(\"autoencoders_hist.json\",\"r\", encoding=\"utf-8\")  as f:\n",
    "    n = json.loads(f.read())"
   ]
  },
  {
   "cell_type": "code",
   "execution_count": null,
   "id": "ebda7f93",
   "metadata": {},
   "outputs": [],
   "source": [
    "print(n.keys())\n",
    "plt.plot(n[\"loss\"],label = \"Train loss\")\n",
    "plt.plot(n[\"val_loss\"],label = \"Val loss\")"
   ]
  },
  {
   "cell_type": "code",
   "execution_count": null,
   "id": "1ea6c32b",
   "metadata": {},
   "outputs": [],
   "source": [
    "encoder = Model(input_img,encoded)\n",
    "encoded_img = encoder.predict(x_test)"
   ]
  }
 ],
 "metadata": {
  "kernelspec": {
   "display_name": "Python 3 (ipykernel)",
   "language": "python",
   "name": "python3"
  },
  "language_info": {
   "codemirror_mode": {
    "name": "ipython",
    "version": 3
   },
   "file_extension": ".py",
   "mimetype": "text/x-python",
   "name": "python",
   "nbconvert_exporter": "python",
   "pygments_lexer": "ipython3",
   "version": "3.10.9"
  }
 },
 "nbformat": 4,
 "nbformat_minor": 5
}
