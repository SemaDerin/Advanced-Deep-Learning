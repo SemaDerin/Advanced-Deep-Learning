{
 "cells": [
  {
   "cell_type": "markdown",
   "id": "743d7640",
   "metadata": {},
   "source": [
    "# Transfer Learning"
   ]
  },
  {
   "cell_type": "code",
   "execution_count": 2,
   "id": "6142fdbc",
   "metadata": {},
   "outputs": [],
   "source": [
    "from keras.applications.vgg19 import VGG19\n",
    "from keras.models import Sequential\n",
    "from keras.utils import to_categorical\n",
    "from keras.layers import Dense, Flatten\n",
    "from keras.datasets import cifar10\n",
    "import matplotlib.pyplot as plt\n",
    "import cv2\n",
    "import numpy as np"
   ]
  },
  {
   "cell_type": "code",
   "execution_count": 3,
   "id": "087063a4",
   "metadata": {},
   "outputs": [],
   "source": [
    "#pip install opencv-python"
   ]
  },
  {
   "cell_type": "markdown",
   "id": "9f5011cc",
   "metadata": {},
   "source": [
    "Cifar10 datasetini içe aktaralım ve train ve test olarak ayıralım. Cifar dataseti 10 sınıflı resimlerden oluşan bir dataset"
   ]
  },
  {
   "cell_type": "code",
   "execution_count": 4,
   "id": "7ce30a42",
   "metadata": {},
   "outputs": [
    {
     "name": "stdout",
     "output_type": "stream",
     "text": [
      "Downloading data from https://www.cs.toronto.edu/~kriz/cifar-10-python.tar.gz\n",
      "170498071/170498071 [==============================] - 16s 0us/step\n",
      "x train shape  (50000, 32, 32, 3)\n",
      "Train sample  50000\n"
     ]
    }
   ],
   "source": [
    "(x_train,y_train),(x_test,y_test) =cifar10.load_data()\n",
    "print(\"x train shape \", x_train.shape)\n",
    "print(\"Train sample \", x_train.shape[0])"
   ]
  },
  {
   "cell_type": "markdown",
   "id": "63364d50",
   "metadata": {},
   "source": [
    "Class sayımızı 10."
   ]
  },
  {
   "cell_type": "code",
   "execution_count": 5,
   "id": "073faaa8",
   "metadata": {},
   "outputs": [],
   "source": [
    "numberOfClass= 10"
   ]
  },
  {
   "cell_type": "markdown",
   "id": "81f650de",
   "metadata": {},
   "source": [
    "x_train ve y_train verilerini to_categorical methodu ile categorical veriye çeviriyoruz."
   ]
  },
  {
   "cell_type": "code",
   "execution_count": 7,
   "id": "213307fa",
   "metadata": {},
   "outputs": [],
   "source": [
    "y_train= to_categorical(y_train, numberOfClass)\n",
    "y_train= to_categorical(y_test, numberOfClass)\n"
   ]
  },
  {
   "cell_type": "markdown",
   "id": "5a32de22",
   "metadata": {},
   "source": [
    "Shape elde edeilmek için 1: itibaren kısımı alıyoruz."
   ]
  },
  {
   "cell_type": "code",
   "execution_count": 9,
   "id": "f3ea3004",
   "metadata": {},
   "outputs": [],
   "source": [
    "input_shape= x_train.shape[1:]"
   ]
  },
  {
   "cell_type": "code",
   "execution_count": 24,
   "id": "0a9fa744",
   "metadata": {},
   "outputs": [
    {
     "data": {
      "image/png": "[encoded data removed]",
      "text/plain": [
       "<Figure size 640x480 with 1 Axes>"
      ]
     },
     "metadata": {},
     "output_type": "display_data"
    }
   ],
   "source": [
    "plt.imshow(x_train[5511].astype(np.uint))\n",
    "plt.axis(\"off\")\n",
    "plt.show()"
   ]
  },
  {
   "cell_type": "markdown",
   "id": "aafec6bf",
   "metadata": {},
   "source": [
    "İnputların boyutlarını ayarlamamız gerekiyor. Bu sebeple de resize_img methodu ile bunu sağlamak gerkiyor. \n",
    "\n",
    "Önce img.shape[0] ile resim sayısını öğreniyoruz.\n",
    "\n",
    "Ardından memory_allocation ile bir bellekten yer ayırıyoruz. 48x48 lik boyutlar ve 3 kanallı ayrıca da iamge sayısı kadar 0 lardan oluşan bir np.array'dir.\n",
    "\n",
    "for döngüsü ile tek tek image'leri dolaşacağım ve tek tek boyutları ayarlayacağım. "
   ]
  },
  {
   "cell_type": "code",
   "execution_count": 18,
   "id": "7a933380",
   "metadata": {},
   "outputs": [],
   "source": [
    "#Datasetimizide image'lerin 48x48 lik resimler haline getirmek gerekiyor \n",
    "#increase dimension\n",
    "def resize_img(img):\n",
    "    numberOfImage= img.shape[0] \n",
    "    new_array= np.zeros((numberOfImage, 48,48,3))\n",
    "    for i in range(numberOfImage):\n",
    "        new_array[i]= cv2.resize(img[i,:,:,:],(48,48))\n",
    "    return new_array\n",
    "    "
   ]
  },
  {
   "cell_type": "markdown",
   "id": "410d7508",
   "metadata": {},
   "source": [
    "Resim boyutları kullanacağımız model için küçük olduğu için resim boyutlarını ayarlayacağız."
   ]
  },
  {
   "cell_type": "code",
   "execution_count": 19,
   "id": "b13768cc",
   "metadata": {},
   "outputs": [
    {
     "name": "stdout",
     "output_type": "stream",
     "text": [
      "increased dim x_train:  [[[[ 59.  62.  63.]\n",
      "   [ 51.  54.  54.]\n",
      "   [ 44.  46.  44.]\n",
      "   ...\n",
      "   [153. 126. 103.]\n",
      "   [150. 124. 102.]\n",
      "   [148. 124. 103.]]\n",
      "\n",
      "  [[ 38.  41.  42.]\n",
      "   [ 30.  32.  32.]\n",
      "   [ 23.  24.  22.]\n",
      "   ...\n",
      "   [136. 105.  77.]\n",
      "   [135. 105.  78.]\n",
      "   [135. 106.  80.]]\n",
      "\n",
      "  [[ 17.  20.  20.]\n",
      "   [ 10.  11.  10.]\n",
      "   [  6.   3.   0.]\n",
      "   ...\n",
      "   [119.  84.  51.]\n",
      "   [119.  84.  52.]\n",
      "   [120.  85.  54.]]\n",
      "\n",
      "  ...\n",
      "\n",
      "  [[185. 144.  96.]\n",
      "   [181. 136.  68.]\n",
      "   [179. 131.  39.]\n",
      "   ...\n",
      "   [105.  71.  39.]\n",
      "   [ 84.  53.  30.]\n",
      "   [ 78.  50.  32.]]\n",
      "\n",
      "  [[179. 142. 106.]\n",
      "   [175. 134.  87.]\n",
      "   [172. 129.  66.]\n",
      "   ...\n",
      "   [136. 102.  68.]\n",
      "   [114.  81.  56.]\n",
      "   [103.  73.  53.]]\n",
      "\n",
      "  [[177. 144. 116.]\n",
      "   [172. 136. 105.]\n",
      "   [170. 131.  93.]\n",
      "   ...\n",
      "   [162. 129.  93.]\n",
      "   [137. 105.  78.]\n",
      "   [123.  92.  72.]]]\n",
      "\n",
      "\n",
      " [[[154. 177. 187.]\n",
      "   [140. 157. 161.]\n",
      "   [122. 131. 129.]\n",
      "   ...\n",
      "   [ 88.  91.  71.]\n",
      "   [ 83.  85.  70.]\n",
      "   [ 79.  81.  70.]]\n",
      "\n",
      "  [[147. 169. 178.]\n",
      "   [141. 157. 162.]\n",
      "   [132. 140. 139.]\n",
      "   ...\n",
      "   [ 84.  87.  68.]\n",
      "   [ 79.  81.  66.]\n",
      "   [ 75.  77.  66.]]\n",
      "\n",
      "  [[140. 159. 168.]\n",
      "   [142. 155. 161.]\n",
      "   [140. 147. 147.]\n",
      "   ...\n",
      "   [ 78.  81.  63.]\n",
      "   [ 73.  75.  60.]\n",
      "   [ 70.  72.  60.]]\n",
      "\n",
      "  ...\n",
      "\n",
      "  [[167. 156. 134.]\n",
      "   [161. 154. 135.]\n",
      "   [156. 154. 137.]\n",
      "   ...\n",
      "   [109. 100. 105.]\n",
      "   [119. 109. 117.]\n",
      "   [124. 115. 124.]]\n",
      "\n",
      "  [[164. 151. 124.]\n",
      "   [161. 151. 125.]\n",
      "   [157. 151. 128.]\n",
      "   ...\n",
      "   [131. 122. 129.]\n",
      "   [135. 126. 134.]\n",
      "   [137. 127. 138.]]\n",
      "\n",
      "  [[163. 148. 120.]\n",
      "   [160. 148. 121.]\n",
      "   [159. 149. 124.]\n",
      "   ...\n",
      "   [143. 134. 141.]\n",
      "   [143. 133. 143.]\n",
      "   [143. 133. 144.]]]\n",
      "\n",
      "\n",
      " [[[255. 255. 255.]\n",
      "   [254. 254. 254.]\n",
      "   [253. 253. 253.]\n",
      "   ...\n",
      "   [253. 253. 253.]\n",
      "   [253. 253. 253.]\n",
      "   [253. 253. 253.]]\n",
      "\n",
      "  [[255. 255. 255.]\n",
      "   [255. 255. 255.]\n",
      "   [254. 254. 254.]\n",
      "   ...\n",
      "   [254. 254. 254.]\n",
      "   [254. 254. 254.]\n",
      "   [254. 254. 254.]]\n",
      "\n",
      "  [[255. 255. 255.]\n",
      "   [255. 255. 255.]\n",
      "   [255. 255. 255.]\n",
      "   ...\n",
      "   [255. 255. 255.]\n",
      "   [255. 255. 255.]\n",
      "   [255. 255. 255.]]\n",
      "\n",
      "  ...\n",
      "\n",
      "  [[111. 118. 110.]\n",
      "   [108. 115. 108.]\n",
      "   [104. 111. 104.]\n",
      "   ...\n",
      "   [ 70.  76.  75.]\n",
      "   [ 73.  80.  78.]\n",
      "   [ 77.  83.  81.]]\n",
      "\n",
      "  [[109. 116. 108.]\n",
      "   [105. 112. 104.]\n",
      "   [101. 108. 100.]\n",
      "   ...\n",
      "   [ 74.  80.  79.]\n",
      "   [ 77.  83.  81.]\n",
      "   [ 79.  85.  83.]]\n",
      "\n",
      "  [[106. 113. 105.]\n",
      "   [102. 109. 101.]\n",
      "   [ 98. 105.  97.]\n",
      "   ...\n",
      "   [ 79.  85.  83.]\n",
      "   [ 79.  85.  83.]\n",
      "   [ 80.  86.  84.]]]\n",
      "\n",
      "\n",
      " ...\n",
      "\n",
      "\n",
      " [[[ 35. 178. 235.]\n",
      "   [ 37. 177. 237.]\n",
      "   [ 40. 176. 239.]\n",
      "   ...\n",
      "   [ 82. 152. 200.]\n",
      "   [ 84. 147. 193.]\n",
      "   [ 89. 148. 189.]]\n",
      "\n",
      "  [[ 46. 180. 235.]\n",
      "   [ 44. 180. 240.]\n",
      "   [ 42. 180. 244.]\n",
      "   ...\n",
      "   [113. 165. 203.]\n",
      "   [106. 155. 192.]\n",
      "   [103. 149. 182.]]\n",
      "\n",
      "  [[ 64. 184. 234.]\n",
      "   [ 55. 185. 242.]\n",
      "   [ 48. 185. 249.]\n",
      "   ...\n",
      "   [141. 172. 197.]\n",
      "   [122. 154. 178.]\n",
      "   [107. 137. 161.]]\n",
      "\n",
      "  ...\n",
      "\n",
      "  [[ 63.  70.  75.]\n",
      "   [ 59.  69.  79.]\n",
      "   [ 55.  70.  86.]\n",
      "   ...\n",
      "   [ 18.  37.  56.]\n",
      "   [ 14.  31.  44.]\n",
      "   [ 11.  27.  35.]]\n",
      "\n",
      "  [[ 53.  62.  74.]\n",
      "   [ 52.  65.  81.]\n",
      "   [ 51.  69.  90.]\n",
      "   ...\n",
      "   [ 20.  41.  62.]\n",
      "   [ 14.  33.  50.]\n",
      "   [ 10.  27.  41.]]\n",
      "\n",
      "  [[ 44.  56.  73.]\n",
      "   [ 45.  61.  80.]\n",
      "   [ 46.  68.  91.]\n",
      "   ...\n",
      "   [ 22.  44.  68.]\n",
      "   [ 16.  37.  58.]\n",
      "   [ 12.  31.  50.]]]\n",
      "\n",
      "\n",
      " [[[189. 211. 240.]\n",
      "   [187. 209. 238.]\n",
      "   [186. 208. 236.]\n",
      "   ...\n",
      "   [172. 194. 222.]\n",
      "   [170. 194. 221.]\n",
      "   [169. 194. 220.]]\n",
      "\n",
      "  [[192. 211. 240.]\n",
      "   [190. 209. 238.]\n",
      "   [188. 207. 236.]\n",
      "   ...\n",
      "   [172. 193. 220.]\n",
      "   [170. 192. 219.]\n",
      "   [168. 192. 218.]]\n",
      "\n",
      "  [[196. 211. 240.]\n",
      "   [195. 210. 238.]\n",
      "   [193. 208. 236.]\n",
      "   ...\n",
      "   [171. 191. 218.]\n",
      "   [169. 190. 217.]\n",
      "   [167. 190. 216.]]\n",
      "\n",
      "  ...\n",
      "\n",
      "  [[199. 191. 172.]\n",
      "   [195. 187. 167.]\n",
      "   [190. 182. 160.]\n",
      "   ...\n",
      "   [172. 167. 155.]\n",
      "   [173. 167. 154.]\n",
      "   [174. 168. 153.]]\n",
      "\n",
      "  [[198. 190. 172.]\n",
      "   [194. 185. 166.]\n",
      "   [187. 179. 158.]\n",
      "   ...\n",
      "   [185. 179. 164.]\n",
      "   [185. 179. 163.]\n",
      "   [185. 180. 163.]]\n",
      "\n",
      "  [[198. 189. 173.]\n",
      "   [193. 185. 167.]\n",
      "   [187. 179. 160.]\n",
      "   ...\n",
      "   [196. 188. 170.]\n",
      "   [195. 189. 171.]\n",
      "   [195. 190. 171.]]]\n",
      "\n",
      "\n",
      " [[[229. 229. 239.]\n",
      "   [232. 233. 243.]\n",
      "   [235. 237. 247.]\n",
      "   ...\n",
      "   [220. 222. 234.]\n",
      "   [221. 223. 233.]\n",
      "   [222. 223. 233.]]\n",
      "\n",
      "  [[226. 225. 234.]\n",
      "   [232. 232. 241.]\n",
      "   [237. 237. 248.]\n",
      "   ...\n",
      "   [223. 225. 236.]\n",
      "   [220. 221. 231.]\n",
      "   [216. 217. 227.]]\n",
      "\n",
      "  [[220. 218. 226.]\n",
      "   [229. 228. 236.]\n",
      "   [237. 237. 247.]\n",
      "   ...\n",
      "   [225. 226. 237.]\n",
      "   [217. 218. 228.]\n",
      "   [209. 210. 219.]]\n",
      "\n",
      "  ...\n",
      "\n",
      "  [[139. 134. 127.]\n",
      "   [135. 131. 124.]\n",
      "   [131. 127. 120.]\n",
      "   ...\n",
      "   [203. 202. 200.]\n",
      "   [212. 211. 207.]\n",
      "   [217. 216. 212.]]\n",
      "\n",
      "  [[130. 126. 120.]\n",
      "   [127. 124. 118.]\n",
      "   [124. 121. 115.]\n",
      "   ...\n",
      "   [182. 182. 179.]\n",
      "   [185. 185. 182.]\n",
      "   [188. 187. 184.]]\n",
      "\n",
      "  [[122. 119. 114.]\n",
      "   [120. 117. 112.]\n",
      "   [118. 116. 110.]\n",
      "   ...\n",
      "   [166. 166. 164.]\n",
      "   [163. 163. 161.]\n",
      "   [163. 163. 161.]]]]\n"
     ]
    }
   ],
   "source": [
    "x_train = resize_img(x_train)\n",
    "x_test = resize_img(x_test)\n",
    "print(\"increased dim x_train: \",x_train)\n"
   ]
  },
  {
   "cell_type": "markdown",
   "id": "b15ef920",
   "metadata": {},
   "source": [
    "Resmin nasıl değiştiğini bir görelim."
   ]
  },
  {
   "cell_type": "code",
   "execution_count": 25,
   "id": "272f5348",
   "metadata": {},
   "outputs": [
    {
     "data": {
      "image/png": "[encoded data removed]",
      "text/plain": [
       "<Figure size 640x480 with 1 Axes>"
      ]
     },
     "metadata": {},
     "output_type": "display_data"
    }
   ],
   "source": [
    "plt.figure()\n",
    "plt.imshow(x_train[5511].astype(np.uint8))\n",
    "plt.axis(\"off\")\n",
    "plt.show()"
   ]
  },
  {
   "cell_type": "markdown",
   "id": "3828c881",
   "metadata": {},
   "source": [
    "Modeli kullanmaya başlayabiliriz. Trasnfer Learning'in önemli örneklerinden biri de VGG19. Modeli indirdik ve modelin bazı parametrelerini ayarlayacağız. İlk olarak include_top= False olması maxPooling2d'ye kadar kısmı alıyor.Yani aslında fullyconnected kısmını kullanacağımız için o kısmı atıyoruz. Ardından weight değerleninin alacağımız dataseti \"imagenet\" veriseti olacağından bunu da belirtiyoruz. Son olarak ad input_shape değerimizi belirtip VGG19 modelini indiriyoruz."
   ]
  },
  {
   "cell_type": "code",
   "execution_count": null,
   "id": "c3680173",
   "metadata": {},
   "outputs": [],
   "source": [
    "vgg= VGG19(include_top=False,weights=\"imagenet\",input_shape=(48,48,3))\n",
    "print(vgg.summary())"
   ]
  },
  {
   "cell_type": "markdown",
   "id": "956e3a61",
   "metadata": {},
   "source": [
    "Modelimiz Sequential() bir model olacağından önce belirtip ardında VGG19 layer'larını model.add şeklinde ekliyoruz."
   ]
  },
  {
   "cell_type": "code",
   "execution_count": null,
   "id": "8fa763e1",
   "metadata": {},
   "outputs": [],
   "source": [
    "model= Sequential()\n",
    "for layer in vgg_layer_list:\n",
    "    model.add(layer)"
   ]
  },
  {
   "cell_type": "markdown",
   "id": "0ceb6fbd",
   "metadata": {},
   "source": [
    "Modeli görüntülediğimizde maxpooling2d'de bittiğini göreceğiz. Fully connected layer'ı ekleyeceğiz."
   ]
  },
  {
   "cell_type": "code",
   "execution_count": null,
   "id": "bb45dcf3",
   "metadata": {},
   "outputs": [],
   "source": [
    "print(model.summary())"
   ]
  },
  {
   "cell_type": "markdown",
   "id": "6cb91a42",
   "metadata": {},
   "source": [
    "Şimdi ise fullyConnected katmanını ekleyelim."
   ]
  },
  {
   "cell_type": "code",
   "execution_count": null,
   "id": "62deee52",
   "metadata": {},
   "outputs": [],
   "source": [
    "model.add(Flatten())\n",
    "model.add(Dense(128)) #128 nöronlu bir dense layer\n",
    "model.add(Dense(numberOfClass, activation=\"softmax\"))"
   ]
  },
  {
   "cell_type": "markdown",
   "id": "cb398efc",
   "metadata": {},
   "source": [
    "Artık modeli compile edeceğimiz için loss, optimizer ve metrik değerlerini tanımlayacğız."
   ]
  },
  {
   "cell_type": "code",
   "execution_count": null,
   "id": "dd517539",
   "metadata": {},
   "outputs": [],
   "source": [
    "model.compile(loss = \"categorical_crossentropy\",\n",
    "              optimizer = \"rmsprop\",\n",
    "              metrics = [\"accuracy\"] )"
   ]
  },
  {
   "cell_type": "markdown",
   "id": "1e443290",
   "metadata": {},
   "source": [
    "Modeli kuracağız ve fit edeceğiz."
   ]
  },
  {
   "cell_type": "code",
   "execution_count": null,
   "id": "2f7287f4",
   "metadata": {},
   "outputs": [],
   "source": [
    "hist =model.fit(x_train, y_train, validation_split =0.2, epochs=5, batch_size=1000) "
   ]
  },
  {
   "cell_type": "markdown",
   "id": "3548e277",
   "metadata": {},
   "source": [
    "train datası fit edileceğinden 1. ve 2.parametrelere train datalarını yazdık. Validation kısmı için %20 kısmını alıyoruz. Doğrulama yapmamız gerekiyor. Validation kısmını bunun için kullanıyoruz."
   ]
  },
  {
   "cell_type": "code",
   "execution_count": null,
   "id": "1f9a5a55",
   "metadata": {},
   "outputs": [],
   "source": [
    "# model save\n",
    "model.save_weights(\"example.h5\")"
   ]
  },
  {
   "cell_type": "markdown",
   "id": "15ba87e4",
   "metadata": {},
   "source": [
    "plt.plot(hist.history[\"loss\"], label = \"train loss\")\n",
    "plt.plot(hist.history[\"val_loss\"], label = \"val loss\")\n",
    "plt.legend()\n",
    "plt.show()\n",
    "\n",
    "plt.figure()\n",
    "plt.plot(hist.history[\"acc\"], label = \"train acc\")\n",
    "plt.plot(hist.history[\"val_acc\"], label = \"val acc\")\n",
    "plt.legend()\n",
    "plt.show()"
   ]
  },
  {
   "cell_type": "code",
   "execution_count": null,
   "id": "f51d96d1",
   "metadata": {},
   "outputs": [],
   "source": [
    "# load\n",
    "import json, codecs\n",
    "with codecs.open(\"transfer_learning_vgg19_cfar10.json\",\"r\",encoding = \"utf-8\") as f:\n",
    "    n = json.loads(f.read())\n",
    "\n",
    "plt.plot(n[\"acc\"], label = \"train acc\")\n",
    "plt.plot(n[\"val_acc\"], label = \"val acc\")\n",
    "plt.legend()\n",
    "plt.show()\n",
    "\n",
    "\n",
    "# save\n",
    "with open('transfer_learning_vgg19_cfar10.json', 'w') as f:\n",
    "    json.dump(hist.history, f)"
   ]
  }
 ],
 "metadata": {
  "kernelspec": {
   "display_name": "Python 3 (ipykernel)",
   "language": "python",
   "name": "python3"
  },
  "language_info": {
   "codemirror_mode": {
    "name": "ipython",
    "version": 3
   },
   "file_extension": ".py",
   "mimetype": "text/x-python",
   "name": "python",
   "nbconvert_exporter": "python",
   "pygments_lexer": "ipython3",
   "version": "3.10.9"
  }
 },
 "nbformat": 4,
 "nbformat_minor": 5
}
